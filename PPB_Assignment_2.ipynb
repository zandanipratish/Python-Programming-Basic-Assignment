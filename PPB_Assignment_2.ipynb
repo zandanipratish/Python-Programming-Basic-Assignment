{
 "cells": [
  {
   "cell_type": "markdown",
   "id": "ef806067",
   "metadata": {},
   "source": [
    "1. Write a Python program to convert kilometers to miles?"
   ]
  },
  {
   "cell_type": "code",
   "execution_count": 1,
   "id": "e55c229a",
   "metadata": {},
   "outputs": [
    {
     "name": "stdout",
     "output_type": "stream",
     "text": [
      "Enter distance in kilometers : 56\n",
      "Distance in Miles is :  34.796776\n"
     ]
    }
   ],
   "source": [
    "km = float(input(\"Enter distance in kilometers : \"))\n",
    "miles = km * 0.621371\n",
    "print(\"Distance in Miles is : \",miles)"
   ]
  },
  {
   "cell_type": "code",
   "execution_count": null,
   "id": "0e3f2157",
   "metadata": {},
   "outputs": [],
   "source": []
  },
  {
   "cell_type": "markdown",
   "id": "d72c545b",
   "metadata": {},
   "source": [
    "2. Write a Python program to convert Celsius to Fahrenheit?"
   ]
  },
  {
   "cell_type": "code",
   "execution_count": 1,
   "id": "0828b1c7",
   "metadata": {},
   "outputs": [
    {
     "name": "stdout",
     "output_type": "stream",
     "text": [
      "Enter temperature in Celsius : 30\n",
      "The temperature in Fahrenheit is :  86.0  degrees\n"
     ]
    }
   ],
   "source": [
    "cel = float(input(\"Enter temperature in Celsius : \"))\n",
    "f = (cel*1.8)+32\n",
    "print(\"The temperature in Fahrenheit is : \",f,\" degrees\")"
   ]
  },
  {
   "cell_type": "code",
   "execution_count": null,
   "id": "5b863fa5",
   "metadata": {},
   "outputs": [],
   "source": []
  },
  {
   "cell_type": "markdown",
   "id": "f723e84e",
   "metadata": {},
   "source": [
    "3. Write a Python program to display calendar?"
   ]
  },
  {
   "cell_type": "code",
   "execution_count": 4,
   "id": "b43d1454",
   "metadata": {},
   "outputs": [
    {
     "name": "stdout",
     "output_type": "stream",
     "text": [
      "Enter Year in yy format : 22\n",
      "Enter month between 1 to 12 : 1\n",
      "     January 22\n",
      "Mo Tu We Th Fr Sa Su\n",
      "                1  2\n",
      " 3  4  5  6  7  8  9\n",
      "10 11 12 13 14 15 16\n",
      "17 18 19 20 21 22 23\n",
      "24 25 26 27 28 29 30\n",
      "31\n",
      "\n"
     ]
    }
   ],
   "source": [
    "import calendar\n",
    "\n",
    "yy = int(input(\"Enter Year in yy format : \"))\n",
    "mm = int(input(\"Enter month between 1 to 12 : \"))\n",
    "\n",
    "print(calendar.month(yy,mm))"
   ]
  },
  {
   "cell_type": "code",
   "execution_count": null,
   "id": "7121a13a",
   "metadata": {},
   "outputs": [],
   "source": []
  },
  {
   "cell_type": "markdown",
   "id": "cf0d27cf",
   "metadata": {},
   "source": [
    "4. Write a Python program to solve quadratic equation?"
   ]
  },
  {
   "cell_type": "code",
   "execution_count": 2,
   "id": "800cb349",
   "metadata": {},
   "outputs": [
    {
     "name": "stdout",
     "output_type": "stream",
     "text": [
      "Enter a number greater than 0 for coefficient a: 1\n",
      "Enter a number for coefficient b: 4\n",
      "Enter a number for coefficient c: 2\n",
      "Roots are  (-3.414213562373095+0j)  and  (-0.5857864376269049+0j)\n"
     ]
    }
   ],
   "source": [
    "import cmath\n",
    "\n",
    "a = int(input(\"Enter a number greater than 0 for coefficient a: \"))\n",
    "b = int(input(\"Enter a number for coefficient b: \"))\n",
    "c = int(input(\"Enter a number for coefficient c: \"))\n",
    "\n",
    "dis = (b**2)-(4*a*c)\n",
    "\n",
    "root1 = (-b-cmath.sqrt(dis))/(2*a)\n",
    "root2 = (-b+cmath.sqrt(dis))/(2*a)\n",
    "\n",
    "print(\"Roots are \",root1,\" and \", root2)"
   ]
  },
  {
   "cell_type": "code",
   "execution_count": null,
   "id": "f12f3442",
   "metadata": {},
   "outputs": [],
   "source": []
  },
  {
   "cell_type": "markdown",
   "id": "c3307bba",
   "metadata": {},
   "source": [
    "5. Write a Python program to swap two variables without temp variable"
   ]
  },
  {
   "cell_type": "code",
   "execution_count": 6,
   "id": "ccd1beae",
   "metadata": {},
   "outputs": [
    {
     "name": "stdout",
     "output_type": "stream",
     "text": [
      "Values of variables before swapping is 45 & 96\n",
      "Values of variables after swapping is 96 & 45\n"
     ]
    }
   ],
   "source": [
    "x = 45\n",
    "y = 96\n",
    "\n",
    "print(\"Values of variables before swapping is {} & {}\".format(x,y))\n",
    "\n",
    "x,y = y,x\n",
    "\n",
    "print(\"Values of variables after swapping is {} & {}\".format(x,y))"
   ]
  },
  {
   "cell_type": "code",
   "execution_count": null,
   "id": "62e257e2",
   "metadata": {},
   "outputs": [],
   "source": []
  }
 ],
 "metadata": {
  "kernelspec": {
   "display_name": "Python 3",
   "language": "python",
   "name": "python3"
  },
  "language_info": {
   "codemirror_mode": {
    "name": "ipython",
    "version": 3
   },
   "file_extension": ".py",
   "mimetype": "text/x-python",
   "name": "python",
   "nbconvert_exporter": "python",
   "pygments_lexer": "ipython3",
   "version": "3.8.8"
  }
 },
 "nbformat": 4,
 "nbformat_minor": 5
}
