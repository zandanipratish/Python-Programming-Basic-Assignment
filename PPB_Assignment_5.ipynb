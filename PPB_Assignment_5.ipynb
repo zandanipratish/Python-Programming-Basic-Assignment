{
 "cells": [
  {
   "cell_type": "markdown",
   "id": "ee1a9e74",
   "metadata": {},
   "source": [
    "### 1. Write a Python Program to Find LCM?"
   ]
  },
  {
   "cell_type": "code",
   "execution_count": 2,
   "id": "6d090f08",
   "metadata": {},
   "outputs": [
    {
     "name": "stdout",
     "output_type": "stream",
     "text": [
      "Enter First intger : 4\n",
      "Enter Second intger : 6\n",
      "LCM of  4  and  6 is:  12\n"
     ]
    }
   ],
   "source": [
    "num1 = int(input(\"Enter First intger : \"))\n",
    "num2 = int(input(\"Enter Second intger : \"))\n",
    "\n",
    "if num1 > num2:\n",
    "    big = num1\n",
    "else:\n",
    "    big = num2\n",
    "    \n",
    "while(True):\n",
    "    if ((big % num1 ==0) and (big % num2 == 0)):\n",
    "        lcm = big\n",
    "        break\n",
    "    big = big +1\n",
    "    \n",
    "print(\"LCM of \",num1,\" and \",num2 , \"is: \",lcm)"
   ]
  },
  {
   "cell_type": "code",
   "execution_count": null,
   "id": "ab592925",
   "metadata": {},
   "outputs": [],
   "source": []
  },
  {
   "cell_type": "markdown",
   "id": "f4f79b19",
   "metadata": {},
   "source": [
    "### 2. Write a Python Program to Find HCF?"
   ]
  },
  {
   "cell_type": "code",
   "execution_count": 4,
   "id": "90ed46d5",
   "metadata": {},
   "outputs": [
    {
     "name": "stdout",
     "output_type": "stream",
     "text": [
      "Enter First intger : 8\n",
      "Enter Second intger : 12\n",
      "HCF of  8  and  12 is:  4\n"
     ]
    }
   ],
   "source": [
    "num1 = int(input(\"Enter First intger : \"))\n",
    "num2 = int(input(\"Enter Second intger : \"))\n",
    "\n",
    "if num1 > num2:\n",
    "    small = num2\n",
    "else:\n",
    "    small = num1\n",
    "\n",
    "i = 1\n",
    "while (i<small+1):\n",
    "    if ((num1 % i ==0) and (num2 % i == 0)):\n",
    "        hcf = i\n",
    "        #break\n",
    "    i = i +1\n",
    "    \n",
    "print(\"HCF of \",num1,\" and \",num2 , \"is: \",hcf)"
   ]
  },
  {
   "cell_type": "code",
   "execution_count": null,
   "id": "e36852f8",
   "metadata": {},
   "outputs": [],
   "source": []
  },
  {
   "cell_type": "markdown",
   "id": "3e93ba8b",
   "metadata": {},
   "source": [
    "### 3.  Write a Python Program to Convert Decimal to Binary, Octal and Hexadecimal"
   ]
  },
  {
   "cell_type": "code",
   "execution_count": 6,
   "id": "739f9642",
   "metadata": {},
   "outputs": [
    {
     "name": "stdout",
     "output_type": "stream",
     "text": [
      "Enter a Decimal number : 15\n",
      "Binary of decimal number  15  is  0b1111\n",
      "Octal of decimal number  15  is  0o17\n",
      "Hexadecimal of decimal number  15  is  0xf\n"
     ]
    }
   ],
   "source": [
    "decimal = int(input(\"Enter a Decimal number : \"))\n",
    "\n",
    "binary = bin(decimal)\n",
    "octal = oct(decimal)\n",
    "hexa = hex(decimal)\n",
    "\n",
    "print(\"Binary of decimal number \",decimal,\" is \",binary)\n",
    "print(\"Octal of decimal number \",decimal,\" is \",octal)\n",
    "print(\"Hexadecimal of decimal number \",decimal,\" is \",hexa)"
   ]
  },
  {
   "cell_type": "code",
   "execution_count": null,
   "id": "e6074285",
   "metadata": {},
   "outputs": [],
   "source": []
  },
  {
   "cell_type": "markdown",
   "id": "4b8a3a04",
   "metadata": {},
   "source": [
    "### 4. Write a Python Program To Find ASCII value of a character?"
   ]
  },
  {
   "cell_type": "code",
   "execution_count": 8,
   "id": "4050217f",
   "metadata": {},
   "outputs": [
    {
     "name": "stdout",
     "output_type": "stream",
     "text": [
      "Enter a character : $\n",
      "ASCII value of  $  is  36\n"
     ]
    }
   ],
   "source": [
    "c = input(\"Enter a character : \")\n",
    "ascii_val = ord(c)\n",
    "\n",
    "print(\"ASCII value of \",c,\" is \",ascii_val)"
   ]
  },
  {
   "cell_type": "code",
   "execution_count": null,
   "id": "0357af28",
   "metadata": {},
   "outputs": [],
   "source": []
  },
  {
   "cell_type": "markdown",
   "id": "cd8e4916",
   "metadata": {},
   "source": [
    "### 5. Write a Python Program to Make a Simple Calculator with 4 basic mathematical operations?"
   ]
  },
  {
   "cell_type": "code",
   "execution_count": 11,
   "id": "48c06c43",
   "metadata": {},
   "outputs": [
    {
     "name": "stdout",
     "output_type": "stream",
     "text": [
      "Please enter the first number: 8\n",
      "Please enter the second number: 9\n",
      "Please select the operation.\n",
      "1. Add\n",
      "2. Subtract\n",
      "3. Multiply\n",
      "4. Divide\n",
      "3\n",
      "8  x  9  =  72\n"
     ]
    }
   ],
   "source": [
    "num1 = int (input (\"Please enter the first number: \"))    \n",
    "num2 = int (input (\"Please enter the second number: \"))\n",
    "\n",
    "print (\"Please select the operation.\")    \n",
    "print (\"1. Add\")    \n",
    "print (\"2. Subtract\")    \n",
    "print (\"3. Multiply\")    \n",
    "print (\"4. Divide\")\n",
    "\n",
    "choice = input()\n",
    "\n",
    "if choice == '1':\n",
    "    print(num1,\" + \",num2,\" = \",num1+num2)\n",
    "elif choice == '2':\n",
    "    print(num1,\" - \",num2,\" = \",num1-num2)\n",
    "elif choice == '3':\n",
    "    print(num1,\" x \",num2,\" = \",num1*num2)\n",
    "elif choice == '4':\n",
    "    print(num1,\" / \",num2,\" = \",num1/num2)\n",
    "else :\n",
    "    print(\"Invalid Choice of operation\")"
   ]
  },
  {
   "cell_type": "code",
   "execution_count": null,
   "id": "bea80da6",
   "metadata": {},
   "outputs": [],
   "source": []
  }
 ],
 "metadata": {
  "kernelspec": {
   "display_name": "Python 3",
   "language": "python",
   "name": "python3"
  },
  "language_info": {
   "codemirror_mode": {
    "name": "ipython",
    "version": 3
   },
   "file_extension": ".py",
   "mimetype": "text/x-python",
   "name": "python",
   "nbconvert_exporter": "python",
   "pygments_lexer": "ipython3",
   "version": "3.8.8"
  }
 },
 "nbformat": 4,
 "nbformat_minor": 5
}
