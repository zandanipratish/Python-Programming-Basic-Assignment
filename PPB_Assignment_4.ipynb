{
 "cells": [
  {
   "cell_type": "markdown",
   "id": "4345a4e1",
   "metadata": {},
   "source": [
    "### 1. Write a Python Program to Find the Factorial of a Number?"
   ]
  },
  {
   "cell_type": "code",
   "execution_count": 6,
   "id": "a4afd1b8",
   "metadata": {},
   "outputs": [
    {
     "name": "stdout",
     "output_type": "stream",
     "text": [
      "Enter an Integer : 5\n",
      "The factorial of  5  is  120\n"
     ]
    }
   ],
   "source": [
    "n = int(input(\"Enter an Integer : \"))\n",
    "fact = 1\n",
    "for i in range(1,n+1,1):\n",
    "    fact = fact*i\n",
    "print(\"The factorial of \",n,\" is \",fact)"
   ]
  },
  {
   "cell_type": "code",
   "execution_count": null,
   "id": "f334a76e",
   "metadata": {},
   "outputs": [],
   "source": []
  },
  {
   "cell_type": "markdown",
   "id": "96c7a614",
   "metadata": {},
   "source": [
    "### Write a Python Program to Display the multiplication Table?"
   ]
  },
  {
   "cell_type": "code",
   "execution_count": 9,
   "id": "ce67aee8",
   "metadata": {},
   "outputs": [
    {
     "name": "stdout",
     "output_type": "stream",
     "text": [
      "Enter an Integer : 7\n",
      "7  X  1  =  7\n",
      "7  X  2  =  14\n",
      "7  X  3  =  21\n",
      "7  X  4  =  28\n",
      "7  X  5  =  35\n",
      "7  X  6  =  42\n",
      "7  X  7  =  49\n",
      "7  X  8  =  56\n",
      "7  X  9  =  63\n",
      "7  X  10  =  70\n"
     ]
    }
   ],
   "source": [
    "n = int(input(\"Enter an Integer : \"))\n",
    "\n",
    "for i in range(1,11,1):\n",
    "    print(n,\" X \",i,\" = \",n*i)"
   ]
  },
  {
   "cell_type": "code",
   "execution_count": null,
   "id": "c3f15c08",
   "metadata": {},
   "outputs": [],
   "source": []
  },
  {
   "cell_type": "markdown",
   "id": "b416a10c",
   "metadata": {},
   "source": [
    "### 3. Write a Python Program to Print the Fibonacci sequence?"
   ]
  },
  {
   "cell_type": "code",
   "execution_count": 18,
   "id": "204795a9",
   "metadata": {},
   "outputs": [
    {
     "name": "stdout",
     "output_type": "stream",
     "text": [
      "Enter an integer till you you want to see the Fibonacci Sequence : 145\n",
      "Fibanacci Series till  145  is : [0, 1, 1, 2, 3, 5, 8, 13, 21, 34, 55, 89, 144]\n"
     ]
    }
   ],
   "source": [
    "n = int(input(\"Enter an integer till you you want to see the Fibonacci Sequence : \"))\n",
    "p = 0\n",
    "q = 1\n",
    "fib = [0]\n",
    "\n",
    "while q<=n:\n",
    "    fib.append(q)\n",
    "    p,q = q,p+q\n",
    "print(\"Fibanacci Series till \", n , \" is : \",end = '')   \n",
    "print(fib)\n",
    "    "
   ]
  },
  {
   "cell_type": "code",
   "execution_count": null,
   "id": "437854d0",
   "metadata": {},
   "outputs": [],
   "source": []
  },
  {
   "cell_type": "markdown",
   "id": "97c5dff4",
   "metadata": {},
   "source": [
    "### 4. Write a Python Program to Check Armstrong Number?"
   ]
  },
  {
   "cell_type": "code",
   "execution_count": 26,
   "id": "03d61755",
   "metadata": {},
   "outputs": [
    {
     "name": "stdout",
     "output_type": "stream",
     "text": [
      "Enter a number : 407\n",
      "407  is an Armstrong Number\n"
     ]
    }
   ],
   "source": [
    "n = int(input(\"Enter a number : \"))\n",
    "t = n\n",
    "s = 0\n",
    "\n",
    "while t > 0:\n",
    "    d = t%10\n",
    "    s = s+(d**3)\n",
    "    t = t//10\n",
    "    \n",
    "if n==s:\n",
    "    print(n,\" is an Armstrong Number\")\n",
    "else:\n",
    "    print(n,\" is not an Armstrong Number\")"
   ]
  },
  {
   "cell_type": "code",
   "execution_count": null,
   "id": "7d7f4f55",
   "metadata": {},
   "outputs": [],
   "source": []
  },
  {
   "cell_type": "markdown",
   "id": "bcf61687",
   "metadata": {},
   "source": [
    "### 5. Write a Python Program to Find Armstrong Number in an Interval?"
   ]
  },
  {
   "cell_type": "code",
   "execution_count": 27,
   "id": "8d10530f",
   "metadata": {},
   "outputs": [
    {
     "name": "stdout",
     "output_type": "stream",
     "text": [
      "Enter a number as a start of an interval : 100\n",
      "Enter a number as an end of an interval : 2000\n",
      "[153, 370, 371, 407]\n"
     ]
    }
   ],
   "source": [
    "a = int(input(\"Enter a number as a start of an interval : \"))\n",
    "b = int(input(\"Enter a number as an end of an interval : \"))\n",
    "l=[]\n",
    "\n",
    "for i in range(a,b+1):\n",
    "    t=i\n",
    "    s=0\n",
    "    \n",
    "    while t>0:\n",
    "        d = t%10\n",
    "        s = s+(d**3)\n",
    "        t = t//10\n",
    "        \n",
    "    if i==s:\n",
    "        l.append(i)\n",
    "        \n",
    "print(l)"
   ]
  },
  {
   "cell_type": "code",
   "execution_count": null,
   "id": "ccc23535",
   "metadata": {},
   "outputs": [],
   "source": []
  },
  {
   "cell_type": "markdown",
   "id": "de0e4368",
   "metadata": {},
   "source": [
    "### 6. Write a Python Program to Find the Sum of Natural Numbers?"
   ]
  },
  {
   "cell_type": "code",
   "execution_count": 30,
   "id": "a86ae605",
   "metadata": {},
   "outputs": [
    {
     "name": "stdout",
     "output_type": "stream",
     "text": [
      "Enter a positive intger : 16\n",
      "The sum is :  136\n"
     ]
    }
   ],
   "source": [
    "n = int(input(\"Enter a positive intger : \"))\n",
    "\n",
    "if n < 0:\n",
    "    print(\"Please enter positive integer\")\n",
    "else:\n",
    "    sum = 0\n",
    "    while n > 0:\n",
    "        sum = sum+n\n",
    "        n = n-1\n",
    "    print(\"The sum is : \",sum)"
   ]
  },
  {
   "cell_type": "code",
   "execution_count": null,
   "id": "0e858a66",
   "metadata": {},
   "outputs": [],
   "source": []
  }
 ],
 "metadata": {
  "kernelspec": {
   "display_name": "Python 3",
   "language": "python",
   "name": "python3"
  },
  "language_info": {
   "codemirror_mode": {
    "name": "ipython",
    "version": 3
   },
   "file_extension": ".py",
   "mimetype": "text/x-python",
   "name": "python",
   "nbconvert_exporter": "python",
   "pygments_lexer": "ipython3",
   "version": "3.8.8"
  }
 },
 "nbformat": 4,
 "nbformat_minor": 5
}
