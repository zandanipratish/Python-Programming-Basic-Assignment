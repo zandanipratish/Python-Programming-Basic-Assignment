{
 "cells": [
  {
   "cell_type": "markdown",
   "id": "687378e7",
   "metadata": {},
   "source": [
    "### 1. Write a Python Program to find sum of array?"
   ]
  },
  {
   "cell_type": "code",
   "execution_count": 3,
   "id": "e8d71a9e",
   "metadata": {},
   "outputs": [
    {
     "name": "stdout",
     "output_type": "stream",
     "text": [
      "Sum of all the elements of an array is  176\n"
     ]
    }
   ],
   "source": [
    "a = [25,63,8,35,45]\n",
    "\n",
    "sum = 0\n",
    "for i in a:\n",
    "    sum += i\n",
    "    \n",
    "print(\"Sum of all the elements of an array is \", sum)"
   ]
  },
  {
   "cell_type": "code",
   "execution_count": null,
   "id": "1c49bdfb",
   "metadata": {},
   "outputs": [],
   "source": []
  },
  {
   "cell_type": "markdown",
   "id": "8620e5ca",
   "metadata": {},
   "source": [
    "### 2. Write a Python Program to find largest element in an array"
   ]
  },
  {
   "cell_type": "code",
   "execution_count": 4,
   "id": "784c80e7",
   "metadata": {},
   "outputs": [
    {
     "name": "stdout",
     "output_type": "stream",
     "text": [
      "Largest element in an array is  63\n"
     ]
    }
   ],
   "source": [
    "a = [25,63,8,35,45]\n",
    "l = a[0]\n",
    "\n",
    "for i in a:\n",
    "    if i > l:\n",
    "        l = i\n",
    "        \n",
    "print(\"Largest element in an array is \",l)"
   ]
  },
  {
   "cell_type": "code",
   "execution_count": null,
   "id": "9069d167",
   "metadata": {},
   "outputs": [],
   "source": []
  },
  {
   "cell_type": "markdown",
   "id": "f4617c77",
   "metadata": {},
   "source": [
    "### 3. Write a Python Program for array rotation"
   ]
  },
  {
   "cell_type": "code",
   "execution_count": 12,
   "id": "5407548a",
   "metadata": {},
   "outputs": [
    {
     "name": "stdout",
     "output_type": "stream",
     "text": [
      "Output after rotating array is  [45, 35, 8, 63, 25]\n"
     ]
    }
   ],
   "source": [
    "a = [25,63,8,35,45]\n",
    "b = []\n",
    "\n",
    "for i in range(len(a)-1,-1,-1):\n",
    "    b.append(a[i])\n",
    "    \n",
    "print(\"Output after rotating array is \",b)"
   ]
  },
  {
   "cell_type": "code",
   "execution_count": null,
   "id": "77d1cea0",
   "metadata": {},
   "outputs": [],
   "source": []
  },
  {
   "cell_type": "markdown",
   "id": "b564d38d",
   "metadata": {},
   "source": [
    "### 4. Write a Python Program to Split the array and add the first part to the end"
   ]
  },
  {
   "cell_type": "code",
   "execution_count": 22,
   "id": "656d3c7d",
   "metadata": {},
   "outputs": [
    {
     "name": "stdout",
     "output_type": "stream",
     "text": [
      "25\n",
      "63\n",
      "[8, 35, 45, 25, 63]\n"
     ]
    }
   ],
   "source": [
    "a = [25,63,8,35,45]\n",
    "pos = 2\n",
    "l = len(a)\n",
    "\n",
    "for i in range(0,pos):\n",
    "    #print (a[0])\n",
    "    x = a[0]\n",
    "    \n",
    "    for j in range(0,l-1):\n",
    "        a[j] = a[j+1]     \n",
    "    \n",
    "    a[l-1] = x\n",
    "    \n",
    "print(a)\n"
   ]
  },
  {
   "cell_type": "code",
   "execution_count": null,
   "id": "ce2584ff",
   "metadata": {},
   "outputs": [],
   "source": []
  },
  {
   "cell_type": "markdown",
   "id": "0a737738",
   "metadata": {},
   "source": [
    "### 5. Write a Python Program to check if given array is Monotonic"
   ]
  },
  {
   "cell_type": "code",
   "execution_count": 30,
   "id": "d9820cdf",
   "metadata": {},
   "outputs": [
    {
     "name": "stdout",
     "output_type": "stream",
     "text": [
      "Given array is Monotonic\n"
     ]
    }
   ],
   "source": [
    "#a = [25,63,8,35,45]\n",
    "\n",
    "a = [63,45,35,25,8]\n",
    "\n",
    "if ((all(a[i] <= a[i+1] for i in range(len(a)-1))) or (all(a[i] >= a[i+1] for i in range(len(a)-1)))):\n",
    "    print(\"Given array is Monotonic\")\n",
    "else:\n",
    "    print(\"Given array is not Monotonic\")"
   ]
  },
  {
   "cell_type": "code",
   "execution_count": null,
   "id": "e5457108",
   "metadata": {},
   "outputs": [],
   "source": []
  },
  {
   "cell_type": "code",
   "execution_count": null,
   "id": "1060c1e2",
   "metadata": {},
   "outputs": [],
   "source": []
  }
 ],
 "metadata": {
  "kernelspec": {
   "display_name": "Python 3",
   "language": "python",
   "name": "python3"
  },
  "language_info": {
   "codemirror_mode": {
    "name": "ipython",
    "version": 3
   },
   "file_extension": ".py",
   "mimetype": "text/x-python",
   "name": "python",
   "nbconvert_exporter": "python",
   "pygments_lexer": "ipython3",
   "version": "3.8.8"
  }
 },
 "nbformat": 4,
 "nbformat_minor": 5
}
