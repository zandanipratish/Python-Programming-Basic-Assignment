{
 "cells": [
  {
   "cell_type": "markdown",
   "id": "197f3960",
   "metadata": {},
   "source": [
    "### 1. Write a Python program to find sum of elements in list"
   ]
  },
  {
   "cell_type": "code",
   "execution_count": 1,
   "id": "30e72e52",
   "metadata": {},
   "outputs": [
    {
     "name": "stdout",
     "output_type": "stream",
     "text": [
      "1450\n"
     ]
    }
   ],
   "source": [
    "lst = [23,9,65,87,596,36,589,45]\n",
    "sum = 0\n",
    "\n",
    "for i in lst:\n",
    "    sum = sum+i\n",
    "    \n",
    "print(sum)"
   ]
  },
  {
   "cell_type": "code",
   "execution_count": null,
   "id": "e760be72",
   "metadata": {},
   "outputs": [],
   "source": []
  },
  {
   "cell_type": "markdown",
   "id": "a89d4ab1",
   "metadata": {},
   "source": [
    "### 2. Write a Python program to  Multiply all numbers in the list"
   ]
  },
  {
   "cell_type": "code",
   "execution_count": 2,
   "id": "f942e928",
   "metadata": {},
   "outputs": [
    {
     "name": "stdout",
     "output_type": "stream",
     "text": [
      "56890431000\n"
     ]
    }
   ],
   "source": [
    "lst = [23,9,65,87,6,36,5,45]\n",
    "sum = 1\n",
    "\n",
    "for i in lst:\n",
    "    sum = sum*i\n",
    "    \n",
    "print(sum)"
   ]
  },
  {
   "cell_type": "code",
   "execution_count": null,
   "id": "19a837f7",
   "metadata": {},
   "outputs": [],
   "source": []
  },
  {
   "cell_type": "markdown",
   "id": "6cb488c0",
   "metadata": {},
   "source": [
    "### 3. Write a Python program to find smallest number in a list"
   ]
  },
  {
   "cell_type": "code",
   "execution_count": 3,
   "id": "6546dbd5",
   "metadata": {},
   "outputs": [
    {
     "name": "stdout",
     "output_type": "stream",
     "text": [
      "Smallese number in the list is :  5\n"
     ]
    }
   ],
   "source": [
    "lst = [23,9,65,87,6,36,5,45]\n",
    "s = lst[0]\n",
    "\n",
    "for i in lst:\n",
    "    if s <= i:\n",
    "        continue\n",
    "    else:\n",
    "        s = i\n",
    "        \n",
    "print(\"Smallese number in the list is : \",s)"
   ]
  },
  {
   "cell_type": "code",
   "execution_count": null,
   "id": "6c3a4999",
   "metadata": {},
   "outputs": [],
   "source": []
  },
  {
   "cell_type": "markdown",
   "id": "54b17465",
   "metadata": {},
   "source": [
    "### 4. Write a Python program to find largest number in a list"
   ]
  },
  {
   "cell_type": "code",
   "execution_count": 4,
   "id": "b322b60e",
   "metadata": {},
   "outputs": [
    {
     "name": "stdout",
     "output_type": "stream",
     "text": [
      "Smallese number in the list is :  596\n"
     ]
    }
   ],
   "source": [
    "lst = [23,9,65,87,596,36,589,45]\n",
    "s = lst[0]\n",
    "\n",
    "for i in lst:\n",
    "    if s >= i:\n",
    "        continue\n",
    "    else:\n",
    "        s = i\n",
    "        \n",
    "print(\"Smallese number in the list is : \",s)"
   ]
  },
  {
   "cell_type": "code",
   "execution_count": null,
   "id": "fa7c3b2e",
   "metadata": {},
   "outputs": [],
   "source": []
  },
  {
   "cell_type": "markdown",
   "id": "ac87b616",
   "metadata": {},
   "source": [
    "### 5. Write a Python program to find second largest number in a list"
   ]
  },
  {
   "cell_type": "code",
   "execution_count": 6,
   "id": "2bfca03c",
   "metadata": {},
   "outputs": [
    {
     "name": "stdout",
     "output_type": "stream",
     "text": [
      "2nd largest number in the list is :  589\n"
     ]
    }
   ],
   "source": [
    "lst = [23,9,65,87,596,36,589,45]\n",
    "\n",
    "lst.sort()\n",
    "print(\"2nd largest number in the list is : \",lst[-2])"
   ]
  },
  {
   "cell_type": "code",
   "execution_count": null,
   "id": "778dbf3c",
   "metadata": {},
   "outputs": [],
   "source": []
  },
  {
   "cell_type": "markdown",
   "id": "fe19949c",
   "metadata": {},
   "source": [
    "### 6. Write a Python program to find N largest elements from a list"
   ]
  },
  {
   "cell_type": "code",
   "execution_count": 5,
   "id": "dc0b3aec",
   "metadata": {},
   "outputs": [
    {
     "name": "stdout",
     "output_type": "stream",
     "text": [
      "Enter the number between 1 to 108\n",
      "8 th largest number in the list is :  36\n"
     ]
    }
   ],
   "source": [
    "n = int(input(\"Enter the number between 1 to 10\"))\n",
    "\n",
    "lst = [23,9,65,87,596,36,589,45,66,485]\n",
    "lst.sort()\n",
    "\n",
    "if (n >1 and n<10):\n",
    "    print(n,\"th largest number in the list is : \", lst[-n])\n",
    "else:\n",
    "    print(\"Reexecute the program and enter number between 1 to 10\")"
   ]
  },
  {
   "cell_type": "code",
   "execution_count": null,
   "id": "b1c41456",
   "metadata": {},
   "outputs": [],
   "source": []
  },
  {
   "cell_type": "markdown",
   "id": "7684aff9",
   "metadata": {},
   "source": [
    "### 7. Write a Python program to print even numbers in a list"
   ]
  },
  {
   "cell_type": "code",
   "execution_count": 7,
   "id": "a68b4e83",
   "metadata": {},
   "outputs": [
    {
     "name": "stdout",
     "output_type": "stream",
     "text": [
      "Even numbers in the list are\n",
      "596\n",
      "36\n",
      "66\n"
     ]
    }
   ],
   "source": [
    "lst = [23,9,65,87,596,36,589,45,66,485]\n",
    "\n",
    "print(\"Even numbers in the list are\")\n",
    "for i in lst:\n",
    "    if (i%2 == 0):\n",
    "        print(i)"
   ]
  },
  {
   "cell_type": "code",
   "execution_count": null,
   "id": "f08a72c1",
   "metadata": {},
   "outputs": [],
   "source": []
  },
  {
   "cell_type": "markdown",
   "id": "9c33b6f1",
   "metadata": {},
   "source": [
    "### 8. Write a Python program to print odd numbers in a List"
   ]
  },
  {
   "cell_type": "code",
   "execution_count": 8,
   "id": "5bdd9cca",
   "metadata": {},
   "outputs": [
    {
     "name": "stdout",
     "output_type": "stream",
     "text": [
      "Odd numbers in the list are\n",
      "23\n",
      "9\n",
      "65\n",
      "87\n",
      "589\n",
      "45\n",
      "485\n"
     ]
    }
   ],
   "source": [
    "lst = [23,9,65,87,596,36,589,45,66,485]\n",
    "\n",
    "print(\"Odd numbers in the list are\")\n",
    "for i in lst:\n",
    "    if (i%2 != 0):\n",
    "        print(i)"
   ]
  },
  {
   "cell_type": "code",
   "execution_count": null,
   "id": "dfd35f2c",
   "metadata": {},
   "outputs": [],
   "source": []
  },
  {
   "cell_type": "markdown",
   "id": "4817e5e6",
   "metadata": {},
   "source": [
    "### 9. Write a Python program to Remove empty List from List"
   ]
  },
  {
   "cell_type": "code",
   "execution_count": 9,
   "id": "f20e16b3",
   "metadata": {},
   "outputs": [
    {
     "name": "stdout",
     "output_type": "stream",
     "text": [
      "Original list is : [23, 9, 65, [], 87, 596, 36, [], 589, 45, [], 66, 485]\n",
      "New list after removing empty list is :  [23, 9, 65, 87, 596, 36, 589, 45, 66, 485]\n"
     ]
    }
   ],
   "source": [
    "lst = [23,9,65,[],87,596,36,[],589,45,[],66,485]\n",
    "\n",
    "print(\"Original list is :\",lst)\n",
    "\n",
    "new_lst = list(i for i in lst if i!=[])\n",
    "print(\"New list after removing empty list is : \",new_lst)"
   ]
  },
  {
   "cell_type": "code",
   "execution_count": 10,
   "id": "fb200c8d",
   "metadata": {},
   "outputs": [
    {
     "data": {
      "text/plain": [
       "[23, 9, 65, [], 87, 596, 36, [], 589, 45, [], 66, 485]"
      ]
     },
     "execution_count": 10,
     "metadata": {},
     "output_type": "execute_result"
    }
   ],
   "source": [
    "lst"
   ]
  },
  {
   "cell_type": "code",
   "execution_count": null,
   "id": "b15276c7",
   "metadata": {},
   "outputs": [],
   "source": []
  },
  {
   "cell_type": "markdown",
   "id": "0b11c362",
   "metadata": {},
   "source": [
    "### 10. Write a Python program to Cloning or Copying a list"
   ]
  },
  {
   "cell_type": "code",
   "execution_count": 15,
   "id": "ef11b8a8",
   "metadata": {},
   "outputs": [
    {
     "data": {
      "text/plain": [
       "[23, 9, 65, [], 87, 596, 36, [], 589, 45, [], 66, 485]"
      ]
     },
     "execution_count": 15,
     "metadata": {},
     "output_type": "execute_result"
    }
   ],
   "source": [
    "lst = [23,9,65,[],87,596,36,[],589,45,[],66,485]\n",
    "\n",
    "new_lst = lst\n",
    "\n",
    "new_lst"
   ]
  },
  {
   "cell_type": "code",
   "execution_count": null,
   "id": "9d4f75f0",
   "metadata": {},
   "outputs": [],
   "source": []
  },
  {
   "cell_type": "markdown",
   "id": "e5e4206a",
   "metadata": {},
   "source": [
    "### 11. Write a Python program to Count occurrences of an element in a list"
   ]
  },
  {
   "cell_type": "code",
   "execution_count": 17,
   "id": "ff305223",
   "metadata": {},
   "outputs": [
    {
     "name": "stdout",
     "output_type": "stream",
     "text": [
      "10 has occurred 4 times in the list\n"
     ]
    }
   ],
   "source": [
    "lst = [23,9,10,87,10,36,589,45,10,485,10]\n",
    "x = 10\n",
    "count = 0\n",
    "\n",
    "for i in lst:\n",
    "    if (x == i):\n",
    "        count += 1\n",
    "        \n",
    "print(\"{} has occurred {} times in the list\".format(x,count))"
   ]
  },
  {
   "cell_type": "code",
   "execution_count": null,
   "id": "a329c6bf",
   "metadata": {},
   "outputs": [],
   "source": []
  }
 ],
 "metadata": {
  "kernelspec": {
   "display_name": "Python 3",
   "language": "python",
   "name": "python3"
  },
  "language_info": {
   "codemirror_mode": {
    "name": "ipython",
    "version": 3
   },
   "file_extension": ".py",
   "mimetype": "text/x-python",
   "name": "python",
   "nbconvert_exporter": "python",
   "pygments_lexer": "ipython3",
   "version": "3.8.8"
  }
 },
 "nbformat": 4,
 "nbformat_minor": 5
}
