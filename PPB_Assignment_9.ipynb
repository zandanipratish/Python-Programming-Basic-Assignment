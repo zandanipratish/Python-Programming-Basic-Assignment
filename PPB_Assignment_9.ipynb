{
 "cells": [
  {
   "cell_type": "markdown",
   "id": "bba63804",
   "metadata": {},
   "source": [
    "### 1. Write a Python program to check if the given number is a Disarium Number?"
   ]
  },
  {
   "cell_type": "code",
   "execution_count": 2,
   "id": "463830ea",
   "metadata": {},
   "outputs": [
    {
     "name": "stdout",
     "output_type": "stream",
     "text": [
      "Enter a number : 175\n",
      "175  is disarium number\n"
     ]
    }
   ],
   "source": [
    "num = int(input(\"Enter a number : \"))\n",
    "rem = 0\n",
    "sum = 0\n",
    "n = num\n",
    "\n",
    "l = len(str(num))\n",
    "#print(l)\n",
    "\n",
    "while (n>0):\n",
    "    rem = n%10\n",
    "    sum = sum +int(rem**l)\n",
    "    l = l-1\n",
    "    n=n//10\n",
    "    \n",
    "#print(sum)\n",
    "\n",
    "if (sum==num):\n",
    "    print(num, \" is disarium number\")\n",
    "else:\n",
    "    print(num, \" is not a disarium number\")"
   ]
  },
  {
   "cell_type": "code",
   "execution_count": null,
   "id": "db4e1e69",
   "metadata": {},
   "outputs": [],
   "source": []
  },
  {
   "cell_type": "markdown",
   "id": "5a0d80bd",
   "metadata": {},
   "source": [
    "### 2. Write a Python program to print all disarium numbers between 1 to 100?"
   ]
  },
  {
   "cell_type": "code",
   "execution_count": 9,
   "id": "34189dea",
   "metadata": {},
   "outputs": [
    {
     "name": "stdout",
     "output_type": "stream",
     "text": [
      "1\n",
      "2\n",
      "3\n",
      "4\n",
      "5\n",
      "6\n",
      "7\n",
      "8\n",
      "9\n",
      "89\n"
     ]
    }
   ],
   "source": [
    "def countLength(n):\n",
    "    length = 0\n",
    "    while (n>0):\n",
    "        length = length+1\n",
    "        n = n//10\n",
    "    return length\n",
    "\n",
    "def disarium(num):\n",
    "    rem = sum = 0\n",
    "    l = countLength(num)\n",
    "    \n",
    "    while(num >0):\n",
    "        rem = num%10\n",
    "        sum = sum + (rem**l)\n",
    "        num = num//10\n",
    "        l = l-1        \n",
    "    return sum\n",
    "\n",
    "result = 0\n",
    "for i in range(1,101):\n",
    "    result = disarium(i)\n",
    "    \n",
    "    if (result == i):\n",
    "        print(i)"
   ]
  },
  {
   "cell_type": "code",
   "execution_count": null,
   "id": "18ff52e7",
   "metadata": {},
   "outputs": [],
   "source": []
  },
  {
   "cell_type": "markdown",
   "id": "0e0cc07d",
   "metadata": {},
   "source": [
    "### 3. Write a Python program to check if the given number is Happy Number?"
   ]
  },
  {
   "cell_type": "code",
   "execution_count": 14,
   "id": "b1ab7e96",
   "metadata": {},
   "outputs": [
    {
     "name": "stdout",
     "output_type": "stream",
     "text": [
      "Enter a number : 450\n",
      "450  is not a happy number\n"
     ]
    }
   ],
   "source": [
    "def happynum(num):\n",
    "    rem = sum =0\n",
    "    \n",
    "    while(num>0):\n",
    "        rem = num%10\n",
    "        sum = sum +(rem**2)\n",
    "        num = num//10\n",
    "    return sum\n",
    "\n",
    "num = int(input(\"Enter a number : \"))\n",
    "result = num\n",
    "\n",
    "while(result!=1 and result!=4):\n",
    "    result = happynum(result)\n",
    "    \n",
    "if(result == 1):\n",
    "    print(num,\" is a happy number\")\n",
    "elif(result == 4):\n",
    "    print(num,\" is not a happy number\")"
   ]
  },
  {
   "cell_type": "code",
   "execution_count": null,
   "id": "aaf47c58",
   "metadata": {},
   "outputs": [],
   "source": []
  },
  {
   "cell_type": "markdown",
   "id": "c2d187dd",
   "metadata": {},
   "source": [
    "### 4. Write a Python program to print all happy numbers between 1 and 100?"
   ]
  },
  {
   "cell_type": "code",
   "execution_count": 17,
   "id": "663c5e09",
   "metadata": {},
   "outputs": [
    {
     "name": "stdout",
     "output_type": "stream",
     "text": [
      "List of happy numbers between 1 to 100 are :\n",
      "1\n",
      "7\n",
      "10\n",
      "13\n",
      "19\n",
      "23\n",
      "28\n",
      "31\n",
      "32\n",
      "44\n",
      "49\n",
      "68\n",
      "70\n",
      "79\n",
      "82\n",
      "86\n",
      "91\n",
      "94\n",
      "97\n",
      "100\n"
     ]
    }
   ],
   "source": [
    "def happynum(num):\n",
    "    rem = sum =0\n",
    "    \n",
    "    while(num>0):\n",
    "        rem = num%10\n",
    "        sum = sum +(rem**2)\n",
    "        num = num//10\n",
    "    return sum\n",
    "\n",
    "\n",
    "print(\"List of happy numbers between 1 to 100 are :\")\n",
    "\n",
    "for i in range(1,101):\n",
    "    result = i\n",
    "\n",
    "    while(result!=1 and result!=4):\n",
    "        result = happynum(result)\n",
    "\n",
    "    if(result == 1):\n",
    "        print(i)\n"
   ]
  },
  {
   "cell_type": "code",
   "execution_count": null,
   "id": "912801e5",
   "metadata": {},
   "outputs": [],
   "source": []
  },
  {
   "cell_type": "markdown",
   "id": "8f8f9892",
   "metadata": {},
   "source": [
    "### 5. Write a Python program to determine whether the given number is a Harshad Number?"
   ]
  },
  {
   "cell_type": "code",
   "execution_count": 18,
   "id": "52fc4811",
   "metadata": {},
   "outputs": [
    {
     "name": "stdout",
     "output_type": "stream",
     "text": [
      "Enter a number : 156\n",
      "156  is a harshad number\n"
     ]
    }
   ],
   "source": [
    "num = int(input(\"Enter a number : \"))\n",
    "rem = sum = 0\n",
    "\n",
    "n = num\n",
    "\n",
    "while (num > 0):\n",
    "    rem = num%10\n",
    "    sum = sum + rem\n",
    "    num = num //10\n",
    "    \n",
    "if (n%sum == 0):\n",
    "    print(n,\" is a harshad number\")\n",
    "else:\n",
    "    print(n,\" is not a harshad number\")"
   ]
  },
  {
   "cell_type": "code",
   "execution_count": null,
   "id": "ff1f703b",
   "metadata": {},
   "outputs": [],
   "source": []
  },
  {
   "cell_type": "markdown",
   "id": "0ee5ede9",
   "metadata": {},
   "source": [
    "### 6. Write a Python program to print all pronic numbers between 1 and 100?"
   ]
  },
  {
   "cell_type": "code",
   "execution_count": 5,
   "id": "1b0b4a02",
   "metadata": {},
   "outputs": [
    {
     "name": "stdout",
     "output_type": "stream",
     "text": [
      "Pronic numbers between 1 and 100 are : \n",
      "2\n",
      "6\n",
      "12\n",
      "20\n",
      "30\n",
      "42\n",
      "56\n",
      "72\n",
      "90\n"
     ]
    }
   ],
   "source": [
    "def pronicno(num):\n",
    "    flag = False\n",
    "    \n",
    "    for i in range(1,num+1):\n",
    "        if ((i*(i+1)) == num):\n",
    "            flag = True\n",
    "            break\n",
    "    return flag\n",
    "            \n",
    "print(\"Pronic numbers between 1 and 100 are : \")\n",
    "\n",
    "for j in range(1,101):\n",
    "            if(pronicno(j)):\n",
    "                print(j)\n",
    "                "
   ]
  },
  {
   "cell_type": "code",
   "execution_count": null,
   "id": "98f608e1",
   "metadata": {},
   "outputs": [],
   "source": []
  }
 ],
 "metadata": {
  "kernelspec": {
   "display_name": "Python 3",
   "language": "python",
   "name": "python3"
  },
  "language_info": {
   "codemirror_mode": {
    "name": "ipython",
    "version": 3
   },
   "file_extension": ".py",
   "mimetype": "text/x-python",
   "name": "python",
   "nbconvert_exporter": "python",
   "pygments_lexer": "ipython3",
   "version": "3.8.8"
  }
 },
 "nbformat": 4,
 "nbformat_minor": 5
}
