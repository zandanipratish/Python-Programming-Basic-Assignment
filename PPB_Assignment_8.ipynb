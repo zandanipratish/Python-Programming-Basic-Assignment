{
 "cells": [
  {
   "cell_type": "markdown",
   "id": "8f5eacd7",
   "metadata": {},
   "source": [
    "### 1. Write a Python Program to Add Two Matrices"
   ]
  },
  {
   "cell_type": "code",
   "execution_count": 7,
   "id": "90087344",
   "metadata": {},
   "outputs": [
    {
     "name": "stdout",
     "output_type": "stream",
     "text": [
      "[[10, 10, 10], [10, 10, 10], [10, 10, 10]]\n"
     ]
    }
   ],
   "source": [
    "x = [[1,2,3],[4,5,6],[7,8,9]]\n",
    "y = [[9,8,7],[6,5,4],[3,2,1]]\n",
    "\n",
    "z = [[0,0,0],[0,0,0],[0,0,0]]\n",
    "\n",
    "for i in range(len(x)):\n",
    "    for j in range(len(x)):\n",
    "        #print(x[i][j], \"  \",y[i][j])\n",
    "        z[i][j] = x[i][j] + y[i][j]\n",
    "        \n",
    "print(z)"
   ]
  },
  {
   "cell_type": "code",
   "execution_count": null,
   "id": "b17aebcd",
   "metadata": {},
   "outputs": [],
   "source": []
  },
  {
   "cell_type": "markdown",
   "id": "41a43358",
   "metadata": {},
   "source": [
    "### 2. Write a Python Program to Multiply Two Matrices"
   ]
  },
  {
   "cell_type": "code",
   "execution_count": 8,
   "id": "8df63c99",
   "metadata": {},
   "outputs": [
    {
     "name": "stdout",
     "output_type": "stream",
     "text": [
      "[[9, 16, 21], [24, 25, 24], [21, 16, 9]]\n"
     ]
    }
   ],
   "source": [
    "x = [[1,2,3],[4,5,6],[7,8,9]]\n",
    "y = [[9,8,7],[6,5,4],[3,2,1]]\n",
    "\n",
    "z = [[0,0,0],[0,0,0],[0,0,0]]\n",
    "\n",
    "for i in range(len(x)):\n",
    "    for j in range(len(x)):\n",
    "        #print(x[i][j], \"  \",y[i][j])\n",
    "        z[i][j] = x[i][j] * y[i][j]\n",
    "        \n",
    "print(z)"
   ]
  },
  {
   "cell_type": "code",
   "execution_count": null,
   "id": "87fde303",
   "metadata": {},
   "outputs": [],
   "source": []
  },
  {
   "cell_type": "markdown",
   "id": "2ef29494",
   "metadata": {},
   "source": [
    "### 3. Write a Python Program to Transpose a Matrix"
   ]
  },
  {
   "cell_type": "code",
   "execution_count": 10,
   "id": "7e8532ee",
   "metadata": {},
   "outputs": [
    {
     "name": "stdout",
     "output_type": "stream",
     "text": [
      "[[1, 4, 7], [2, 5, 8], [3, 6, 9]]\n"
     ]
    }
   ],
   "source": [
    "x = [[1,2,3],[4,5,6],[7,8,9]]\n",
    "\n",
    "z = [[0,0,0],[0,0,0],[0,0,0]]\n",
    "\n",
    "for i in range(len(x)):\n",
    "    for j in range(len(x)):\n",
    "        z[i][j] = x[j][i]\n",
    "        \n",
    "print(z)"
   ]
  },
  {
   "cell_type": "code",
   "execution_count": null,
   "id": "60713da0",
   "metadata": {},
   "outputs": [],
   "source": []
  },
  {
   "cell_type": "markdown",
   "id": "48678a9d",
   "metadata": {},
   "source": [
    "### 4. Write a Python Program to Sort Words in Alphabetic Order"
   ]
  },
  {
   "cell_type": "code",
   "execution_count": 15,
   "id": "aec56db7",
   "metadata": {},
   "outputs": [
    {
     "name": "stdout",
     "output_type": "stream",
     "text": [
      "Enter a sentence : i am smart person\n",
      "am\n",
      "i\n",
      "person\n",
      "smart\n"
     ]
    }
   ],
   "source": [
    "s = input(\"Enter a sentence : \")\n",
    "a = s.split()\n",
    "#print(a)\n",
    "\n",
    "a.sort()\n",
    "\n",
    "for i in a:\n",
    "    print(i)"
   ]
  },
  {
   "cell_type": "code",
   "execution_count": null,
   "id": "780f7be2",
   "metadata": {},
   "outputs": [],
   "source": []
  },
  {
   "cell_type": "markdown",
   "id": "54949381",
   "metadata": {},
   "source": [
    "### 5. Write a Python Program to Remove Punctuation From a String"
   ]
  },
  {
   "cell_type": "code",
   "execution_count": 6,
   "id": "041c9031",
   "metadata": {},
   "outputs": [
    {
     "name": "stdout",
     "output_type": "stream",
     "text": [
      "Enter stringI am learning & @ ineuron \".\n",
      "I am learning   ineuron \n"
     ]
    }
   ],
   "source": [
    "p = '''!@#$%^&*()_-=+[]{}\\|:,;.\"'<>?/'''\n",
    "#print(p)\n",
    "\n",
    "s = input(\"Enter string\")\n",
    "new_s = ''\n",
    "\n",
    "for i in s:\n",
    "    if i not in p:\n",
    "        new_s = new_s + i\n",
    "        \n",
    "print(new_s)"
   ]
  },
  {
   "cell_type": "code",
   "execution_count": null,
   "id": "9e73f210",
   "metadata": {},
   "outputs": [],
   "source": []
  }
 ],
 "metadata": {
  "kernelspec": {
   "display_name": "Python 3",
   "language": "python",
   "name": "python3"
  },
  "language_info": {
   "codemirror_mode": {
    "name": "ipython",
    "version": 3
   },
   "file_extension": ".py",
   "mimetype": "text/x-python",
   "name": "python",
   "nbconvert_exporter": "python",
   "pygments_lexer": "ipython3",
   "version": "3.8.8"
  }
 },
 "nbformat": 4,
 "nbformat_minor": 5
}
