{
 "cells": [
  {
   "cell_type": "markdown",
   "id": "b549416a",
   "metadata": {},
   "source": [
    "### 1. Write a Python Program to Display Fibonacci Sequence Using Recursion"
   ]
  },
  {
   "cell_type": "code",
   "execution_count": 8,
   "id": "1921b77b",
   "metadata": {},
   "outputs": [
    {
     "name": "stdout",
     "output_type": "stream",
     "text": [
      "Enter how many numbers do you want to see in the Fibonacci Sequence : 16\n",
      "Fibonacci Series : \n",
      "0\n",
      "1\n",
      "1\n",
      "2\n",
      "3\n",
      "5\n",
      "8\n",
      "13\n",
      "21\n",
      "34\n",
      "55\n",
      "89\n",
      "144\n",
      "233\n",
      "377\n",
      "610\n"
     ]
    }
   ],
   "source": [
    "def fib_recur(n):\n",
    "    if n <=1:\n",
    "        return n\n",
    "    else:\n",
    "        return(fib_recur(n-1)+fib_recur(n-2))\n",
    "\n",
    "n = int(input(\"Enter how many numbers do you want to see in the Fibonacci Sequence : \"))\n",
    "if n <= 0:\n",
    "    print(\"Please Enter Positive Integer\")\n",
    "else:\n",
    "    print(\"Fibonacci Series : \")\n",
    "    for i in range(n):\n",
    "        print(fib_recur(i))    \n"
   ]
  },
  {
   "cell_type": "code",
   "execution_count": null,
   "id": "b0e807fd",
   "metadata": {},
   "outputs": [],
   "source": []
  },
  {
   "cell_type": "markdown",
   "id": "b2b88c7b",
   "metadata": {},
   "source": [
    "### 2. Write a Python Program to Find Factorial of Number Using Recursion"
   ]
  },
  {
   "cell_type": "code",
   "execution_count": 11,
   "id": "b6a67a58",
   "metadata": {},
   "outputs": [
    {
     "name": "stdout",
     "output_type": "stream",
     "text": [
      "Enter a number : 9\n",
      "This factorial of  9  is  362880\n"
     ]
    }
   ],
   "source": [
    "def fact_recur(n):\n",
    "    if n == 1:\n",
    "        return n\n",
    "    else :\n",
    "        return n*fact_recur(n-1)\n",
    "        \n",
    "num = int(input(\"Enter a number : \"))\n",
    "if num <= 0:\n",
    "    print(\"Please enter positive number greater than 0\")\n",
    "else:\n",
    "    print(\"This factorial of \",num,\" is \",fact_recur(num))"
   ]
  },
  {
   "cell_type": "code",
   "execution_count": null,
   "id": "1a8d4a9a",
   "metadata": {},
   "outputs": [],
   "source": []
  },
  {
   "cell_type": "markdown",
   "id": "8f8da5f4",
   "metadata": {},
   "source": [
    "### 3. Write a Python Program to calculate your Body Mass Index?"
   ]
  },
  {
   "cell_type": "code",
   "execution_count": 19,
   "id": "25fd1f97",
   "metadata": {},
   "outputs": [
    {
     "name": "stdout",
     "output_type": "stream",
     "text": [
      "Enter height in cm : 176\n",
      "Enter weight in kg : 78\n",
      "Your BMI is :  25.180785123966942\n",
      "You are Overweight\n"
     ]
    }
   ],
   "source": [
    "ht = float(input(\"Enter height in cm : \"))\n",
    "wt = float(input(\"Enter weight in kg : \"))\n",
    "\n",
    "bmi = wt/(ht/100)**2\n",
    "print(\"Your BMI is : \",bmi)\n",
    "if bmi <= 18.5:\n",
    "    print(\"You are Underweight\")\n",
    "elif bmi <=24.9:\n",
    "    print(\"You are Healthy\")\n",
    "elif bmi <= 29.9:\n",
    "    print(\"You are Overweight\")\n",
    "else:\n",
    "    print(\"You are Obese, start excercising\")"
   ]
  },
  {
   "cell_type": "code",
   "execution_count": null,
   "id": "48e462bb",
   "metadata": {},
   "outputs": [],
   "source": []
  },
  {
   "cell_type": "markdown",
   "id": "5a094afe",
   "metadata": {},
   "source": [
    "### 4. Write a Python Program to calculate the natural logarithm of any number?"
   ]
  },
  {
   "cell_type": "code",
   "execution_count": 20,
   "id": "7a1a1842",
   "metadata": {},
   "outputs": [
    {
     "name": "stdout",
     "output_type": "stream",
     "text": [
      "Enter a Natural number : 6\n",
      "Log of  6  is :  1.791759469228055\n"
     ]
    }
   ],
   "source": [
    "import math\n",
    "n = int(input(\"Enter a Natural number : \"))\n",
    "\n",
    "if n <1:\n",
    "    print(\"Any number less than 1 is not a natural number, try again...\")\n",
    "else:\n",
    "    print(\"Log of \", n , \" is : \",math.log(n))"
   ]
  },
  {
   "cell_type": "code",
   "execution_count": null,
   "id": "2a8506d9",
   "metadata": {},
   "outputs": [],
   "source": []
  },
  {
   "cell_type": "markdown",
   "id": "811db142",
   "metadata": {},
   "source": [
    "### 5. Write a Python Program for cube sum of first n natural numbers"
   ]
  },
  {
   "cell_type": "code",
   "execution_count": 21,
   "id": "182a0620",
   "metadata": {},
   "outputs": [
    {
     "name": "stdout",
     "output_type": "stream",
     "text": [
      "Enter a Natural number : 5\n",
      "Sum of first  5  natural numbers is  225\n"
     ]
    }
   ],
   "source": [
    "n = int(input(\"Enter a Natural number : \"))\n",
    "sum = 0\n",
    "for i in range(1,n+1):\n",
    "    sum = sum + (i*i*i)\n",
    "    \n",
    "print(\"Sum of first \",n, \" natural numbers is \", sum)"
   ]
  },
  {
   "cell_type": "code",
   "execution_count": null,
   "id": "c258856a",
   "metadata": {},
   "outputs": [],
   "source": []
  }
 ],
 "metadata": {
  "kernelspec": {
   "display_name": "Python 3",
   "language": "python",
   "name": "python3"
  },
  "language_info": {
   "codemirror_mode": {
    "name": "ipython",
    "version": 3
   },
   "file_extension": ".py",
   "mimetype": "text/x-python",
   "name": "python",
   "nbconvert_exporter": "python",
   "pygments_lexer": "ipython3",
   "version": "3.8.8"
  }
 },
 "nbformat": 4,
 "nbformat_minor": 5
}
